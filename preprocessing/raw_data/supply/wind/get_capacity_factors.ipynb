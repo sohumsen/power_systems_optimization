{
 "metadata": {
  "language_info": {
   "codemirror_mode": {
    "name": "ipython",
    "version": 3
   },
   "file_extension": ".py",
   "mimetype": "text/x-python",
   "name": "python",
   "nbconvert_exporter": "python",
   "pygments_lexer": "ipython3",
   "version": "3.8.5"
  },
  "orig_nbformat": 4,
  "kernelspec": {
   "name": "python3",
   "display_name": "Python 3.8.5 64-bit ('base': conda)"
  },
  "interpreter": {
   "hash": "2e27e705f449ea5cee5b9311a4a0857134fd0773b7ea6b2f7b6819a54abc9e48"
  }
 },
 "nbformat": 4,
 "nbformat_minor": 2,
 "cells": [
  {
   "cell_type": "code",
   "execution_count": 32,
   "metadata": {},
   "outputs": [],
   "source": [
    "import pandas as pd\n",
    "import numpy as np\n",
    "import math"
   ]
  },
  {
   "cell_type": "code",
   "execution_count": 52,
   "metadata": {},
   "outputs": [
    {
     "output_type": "stream",
     "name": "stdout",
     "text": [
      "      Wiltshire-Lyneham  Goucestershire-Little Rissington  Cornwall-Camborne  \\\n0              0.551958                          0.592384           0.660675   \n1              0.641465                          0.514391           0.660675   \n2              0.189153                          0.473822           0.625700   \n3          10102.923016                          0.514391           0.625700   \n4          10102.923016                          0.433978           0.641465   \n...                 ...                               ...                ...   \n8755           0.554474                          0.514391           0.473822   \n8756           0.433978                          0.326124           0.326124   \n8757           0.473822                          0.395723           0.326124   \n8758           0.592384                          0.473822           0.219432   \n8759           0.625700                          0.592384           0.242089   \n\n      Devon-Exeter  Cornwall-Cardinham Bodmin  Somerset-Liscombe  \\\n0         0.189153                   0.641465           0.641465   \n1         0.641465                   0.660675           0.551958   \n2         0.650671                   0.625700           0.660675   \n3         0.189153                   0.551958           0.592384   \n4         0.641465                   0.592384           0.660675   \n...            ...                        ...                ...   \n8755      0.219432                   0.326124           0.165141   \n8756      0.433978                   0.295341           0.267348   \n8757      0.625700                   0.219432           0.295341   \n8758      0.473822                   0.326124           0.359649   \n8759      0.554474                   0.359649           0.395723   \n\n      Somerset-Yeovilton   Dorset-Hurn  Hampshire-Odiham  Surrey-Wisley  \\\n0               0.189153  10102.923016          0.650671       0.551958   \n1               0.551958  10102.923016          0.625700       0.189153   \n2               0.641465      0.189153          0.625700       0.189153   \n3               0.660675      0.189153          0.592384       0.189153   \n4               0.641465  10102.923016          0.592384       0.189153   \n...                  ...           ...               ...            ...   \n8755            0.473822      0.433978          0.433978       0.625700   \n8756            0.295341      0.267348          0.219432       0.625700   \n8757            0.433978      0.242089          0.181172       0.554474   \n8758            0.554474      0.433978          0.242089       0.514391   \n8759            0.473822      0.433978          0.242089       0.592384   \n\n      Kent-East Malling  Kent-Manston  Greater London-Heathrow  \\\n0          10102.923016      0.641465                 0.625700   \n1              0.189153      0.660675                 0.641465   \n2              0.189153      0.592384                 0.650671   \n3              0.660675      0.625700                 0.641465   \n4              0.641465      0.660675                 0.660675   \n...                 ...           ...                      ...   \n8755           0.433978      0.473822                 0.395723   \n8756           0.514391      0.395723                 0.473822   \n8757           0.359649      0.199196                 0.267348   \n8758           0.395723      0.326124                 0.165141   \n8759           0.395723      0.165141                 0.267348   \n\n      Greater London-Kew Gardens  Greater London-Kenley  \n0                       0.189153               0.650671  \n1                       1.889592               0.650671  \n2                   10102.923016               0.625700  \n3                   10102.923016               0.650671  \n4                       1.889592               0.660675  \n...                          ...                    ...  \n8755                    0.660675               0.514391  \n8756                    0.641465               0.554474  \n8757                    0.660675               0.395723  \n8758                    0.554474               0.165141  \n8759                    0.650671               0.326124  \n\n[8760 rows x 15 columns]\n"
     ]
    }
   ],
   "source": [
    "df=pd.read_csv(\"output.csv\")\n",
    "\n",
    "\n",
    "\n",
    "wind_speed=df[df.select_dtypes(include=['number']).columns]\n",
    "\n",
    "\n",
    "\n",
    "wind_speed[(wind_speed>4)&(wind_speed<25)]\n",
    "\n",
    "wind_speed=(0.88052-math.e**(-((wind_speed/12)**2.25)))/((((wind_speed/12)**2.25))-0.08443)-0.00544\n",
    "wind_speed2 = wind_speed[(wind_speed<4)&(wind_speed>25)]\n",
    "wind_speed2=wind_speed2*0\n",
    "\n",
    "\n",
    "print(wind_speed)\n",
    "# wind_speed2 = wind_speed[(wind_speed<4)&(wind_speed>25)]\n",
    "# wind_speed2 =wind_speed2*0\n",
    "# wind_speed2.fillna(0)\n",
    "wind_speed.to_csv(\"a.csv\")\n",
    "# if wind_speed<25:\n",
    "#     # ((0.88052-math.e**(-((wind speed/12)^2.25)))/((((wind speed/12)^2.25))-0.08443)-0.00544), 0)), 0)\n",
    "\n",
    "#     wind_speed=2\n"
   ]
  },
  {
   "cell_type": "code",
   "execution_count": null,
   "metadata": {},
   "outputs": [],
   "source": []
  }
 ]
}