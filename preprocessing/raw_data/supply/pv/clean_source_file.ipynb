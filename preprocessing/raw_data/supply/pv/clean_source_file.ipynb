{
 "metadata": {
  "language_info": {
   "codemirror_mode": {
    "name": "ipython",
    "version": 3
   },
   "file_extension": ".py",
   "mimetype": "text/x-python",
   "name": "python",
   "nbconvert_exporter": "python",
   "pygments_lexer": "ipython3",
   "version": "3.8.5"
  },
  "orig_nbformat": 4,
  "kernelspec": {
   "name": "python3",
   "display_name": "Python 3.8.5 64-bit"
  },
  "interpreter": {
   "hash": "2db524e06e9f5f4ffedc911c917cb75e12dbc923643829bf417064a77eb14d37"
  }
 },
 "nbformat": 4,
 "nbformat_minor": 2,
 "cells": [
  {
   "cell_type": "code",
   "execution_count": 3,
   "metadata": {},
   "outputs": [],
   "source": [
    "import pandas as pd\n",
    "import numpy as np\n"
   ]
  },
  {
   "cell_type": "code",
   "execution_count": 10,
   "metadata": {},
   "outputs": [
    {
     "output_type": "stream",
     "name": "stdout",
     "text": [
      "<class 'pandas.core.frame.DataFrame'>\nDatetimeIndex: 8507 entries, 2006-01-01 00:00:00 to 2006-12-31 23:00:00\nData columns (total 1 columns):\n #   Column         Non-Null Count  Dtype\n---  ------         --------------  -----\n 0   glbl_irad_amt  8507 non-null   int64\ndtypes: int64(1)\nmemory usage: 132.9 KB\nNone\n<class 'pandas.core.frame.DataFrame'>\nDatetimeIndex: 8760 entries, 2006-01-01 00:00:00 to 2006-12-31 23:00:00\nFreq: H\nData columns (total 1 columns):\n #   Column         Non-Null Count  Dtype\n---  ------         --------------  -----\n 0   glbl_irad_amt  8760 non-null   int64\ndtypes: int64(1)\nmemory usage: 136.9 KB\nNone\n"
     ]
    }
   ],
   "source": [
    " df = pd.read_csv(\"raw\\midas-open_uk-radiation-obs_dv-201908_greater-london_00708_heathrow_qcv-1_2006.csv\", skiprows=75,\n",
    "                         skipfooter=1, engine='python',parse_dates=True,index_col=0)\n",
    "        #TODO 75 is dodgy\n",
    "\n",
    "df1 = df[['glbl_irad_amt']]\n",
    "df1 = df1[~df1.index.duplicated(keep='first')]\n",
    "\n",
    "# df1.index = pd.DatetimeIndex(df1.index)\n",
    "df1.index = pd.to_datetime(df1.index)\n",
    "# df2 = df1.resample('H').interpolate()\n",
    "\n",
    "# create a min max to make the df the uniform \n",
    "\n",
    "idx = pd.date_range(\"2006-01-01\", periods=365*24, freq=\"H\")\n",
    "print(df1.info())\n",
    "\n",
    "\n",
    "df1.index = pd.DatetimeIndex(df1.index)\n",
    "\n",
    "df1 = df1.reindex(idx, fill_value=0)\n",
    "print(df1.info())\n",
    "\n"
   ]
  },
  {
   "cell_type": "code",
   "execution_count": null,
   "metadata": {},
   "outputs": [],
   "source": []
  }
 ]
}