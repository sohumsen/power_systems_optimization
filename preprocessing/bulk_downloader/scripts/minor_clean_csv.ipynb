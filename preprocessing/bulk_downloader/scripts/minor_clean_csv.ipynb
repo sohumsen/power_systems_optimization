{
 "cells": [
  {
   "cell_type": "code",
   "execution_count": 2,
   "source": [
    "import pandas as pd"
   ],
   "outputs": [],
   "metadata": {}
  },
  {
   "cell_type": "code",
   "execution_count": 6,
   "source": [
    "import glob\r\n",
    "\r\n",
    "path = './output/' # use your path\r\n",
    "all_files = glob.glob(path + \"/*.csv\")\r\n",
    "\r\n",
    "li = []\r\n",
    "for filename in all_files:\r\n",
    "\r\n",
    "    df = pd.read_csv(filename, index_col=None)\r\n",
    "    df = df.drop('ob_time', 1)\r\n",
    "\r\n",
    "    df.index.names=[\"t\"]\r\n",
    "    df.columns=df.columns.map(lambda  x:x+(\" (m/s)\") if \"Wind\" in x else x+(\" (kJ/m2)\"))\r\n",
    "    df.to_csv(\"cleaned/\"+filename.split(\"\\\\\")[-1])\r\n",
    "\r\n",
    "\r\n"
   ],
   "outputs": [],
   "metadata": {}
  }
 ],
 "metadata": {
  "orig_nbformat": 4,
  "language_info": {
   "name": "python",
   "version": "3.8.5",
   "mimetype": "text/x-python",
   "codemirror_mode": {
    "name": "ipython",
    "version": 3
   },
   "pygments_lexer": "ipython3",
   "nbconvert_exporter": "python",
   "file_extension": ".py"
  },
  "kernelspec": {
   "name": "python3",
   "display_name": "Python 3.8.5 64-bit ('base': conda)"
  },
  "interpreter": {
   "hash": "2e27e705f449ea5cee5b9311a4a0857134fd0773b7ea6b2f7b6819a54abc9e48"
  }
 },
 "nbformat": 4,
 "nbformat_minor": 2
}