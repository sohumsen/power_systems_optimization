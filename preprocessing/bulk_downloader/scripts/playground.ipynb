{
 "cells": [
  {
   "cell_type": "code",
   "execution_count": 1,
   "source": [
    "import pandas as pd\r\n",
    "import os\r\n"
   ],
   "outputs": [],
   "metadata": {}
  },
  {
   "cell_type": "code",
   "execution_count": 6,
   "source": [
    "\r\n",
    "rootdir = r'C:\\\\Sohum\\\\Home\\\\CodeHome\\\\Python\\\\optimization_course\\\\energy_sytems_optimization\\\\preprocessing\\\\bulk_downloader\\\\data\\\\wind'\r\n",
    "\r\n",
    "def get_wind_csv_for_year(yr):\r\n",
    "\r\n",
    "    frames=[]\r\n",
    "    for subdir, dirs, files in os.walk(rootdir):\r\n",
    "        for file in files:\r\n",
    "\r\n",
    "            if (yr in file):\r\n",
    "\r\n",
    "                file_path=(os.path.join(subdir, file))\r\n",
    "                df=pd.read_csv(file_path)\r\n",
    "                col_name=file_path.split(\"\\\\\")[-3]+\"_\"+file_path.split(\"\\\\\")[-2]\r\n",
    "                if (len(frames)!=0):\r\n",
    "        \r\n",
    "                    del df['ob_time']\r\n",
    "                    df.columns = [col_name]\r\n",
    "                else:\r\n",
    "                    df.columns = ['ob_time',col_name]\r\n",
    "                frames.append(df)\r\n",
    "    res=pd.concat(frames,axis=1)\r\n",
    "    res.fillna(0,inplace=True)\r\n",
    "    res.to_csv(yr+\".csv\",index=False)\r\n"
   ],
   "outputs": [],
   "metadata": {}
  },
  {
   "cell_type": "code",
   "execution_count": 7,
   "source": [
    "# yr=\"2015\"\r\n",
    "# get_wind_csv_for_year(yr)\r\n",
    "\r\n",
    "for i in range(2019,2020):\r\n",
    "    get_wind_csv_for_year(str(i))\r\n",
    "\r\n"
   ],
   "outputs": [],
   "metadata": {}
  }
 ],
 "metadata": {
  "orig_nbformat": 4,
  "language_info": {
   "name": "python",
   "version": "3.8.5",
   "mimetype": "text/x-python",
   "codemirror_mode": {
    "name": "ipython",
    "version": 3
   },
   "pygments_lexer": "ipython3",
   "nbconvert_exporter": "python",
   "file_extension": ".py"
  },
  "kernelspec": {
   "name": "python3",
   "display_name": "Python 3.8.5 64-bit ('base': conda)"
  },
  "interpreter": {
   "hash": "2e27e705f449ea5cee5b9311a4a0857134fd0773b7ea6b2f7b6819a54abc9e48"
  }
 },
 "nbformat": 4,
 "nbformat_minor": 2
}