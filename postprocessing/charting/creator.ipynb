{
 "cells": [
  {
   "cell_type": "code",
   "execution_count": 1,
   "source": [
    "import pandas as pd"
   ],
   "outputs": [],
   "metadata": {}
  },
  {
   "cell_type": "code",
   "execution_count": 3,
   "source": [
    "dict_of_df= pd.read_excel(\"../../processing/input/new_format/new_format-2020.xlsx\",sheet_name=None)\r\n",
    "sing_df=pd.read_csv(\"../web_app/send.csv\")"
   ],
   "outputs": [],
   "metadata": {}
  },
  {
   "cell_type": "markdown",
   "source": [
    "create a single csv file containing demand, wind and solar (MWh) for charting purposes."
   ],
   "metadata": {}
  },
  {
   "cell_type": "code",
   "execution_count": 6,
   "source": [
    "\r\n",
    "place_arr=[\"SouthWest\",\"SouthEast\",\"GreaterLondon\"]\r\n",
    "for p in place_arr:\r\n",
    "        \r\n",
    "    df=pd.concat([dict_of_df[\"Demand\"][p+\" (MWh)\"], sing_df[p+\"-Wind\"], sing_df[p+\"-Solar\"]], ignore_index=True, sort=False,axis=1)\r\n",
    "    df['Date'] = pd.date_range(\"2020-01-01\", periods=8761, freq=\"H\")\r\n",
    "    df.set_index('Date', inplace=True)\r\n",
    "    df.columns=[\"Demand MWh\",\"Wind\",\"Solar\"]\r\n",
    "    df[\"Wind+Solar\"]=df[\"Wind\"]+df[\"Solar\"]\r\n",
    "    df.to_csv(p+\".csv\")\r\n"
   ],
   "outputs": [],
   "metadata": {}
  },
  {
   "cell_type": "code",
   "execution_count": null,
   "source": [],
   "outputs": [],
   "metadata": {}
  }
 ],
 "metadata": {
  "orig_nbformat": 4,
  "language_info": {
   "name": "python",
   "version": "3.8.5",
   "mimetype": "text/x-python",
   "codemirror_mode": {
    "name": "ipython",
    "version": 3
   },
   "pygments_lexer": "ipython3",
   "nbconvert_exporter": "python",
   "file_extension": ".py"
  },
  "kernelspec": {
   "name": "python3",
   "display_name": "Python 3.8.5 64-bit ('base': conda)"
  },
  "interpreter": {
   "hash": "2e27e705f449ea5cee5b9311a4a0857134fd0773b7ea6b2f7b6819a54abc9e48"
  }
 },
 "nbformat": 4,
 "nbformat_minor": 2
}