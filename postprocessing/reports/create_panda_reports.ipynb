{
 "cells": [
  {
   "cell_type": "code",
   "execution_count": null,
   "source": [
    "from IPython import get_ipython\r\n"
   ],
   "outputs": [],
   "metadata": {}
  },
  {
   "cell_type": "code",
   "execution_count": null,
   "source": [
    "\r\n",
    "def get_profiles_of_excel(processed_entire_dict_df):\r\n",
    "    '''for data analysis of '''\r\n",
    "    try:\r\n",
    "\r\n",
    "        from pandas_profiling import ProfileReport\r\n",
    "    except ImportError as e:\r\n",
    "        import sys\r\n",
    "        get_ipython().system(\r\n",
    "            '{sys.executable} -m pip install -U pandas-profiling[notebook]')\r\n",
    "        get_ipython().system('jupyter nbextension enable --py widgetsnbextension')\r\n",
    "        from pandas_profiling import ProfileReport\r\n",
    "    from pathlib import Path\r\n",
    "    Path(\"reports/\").mkdir(parents=True, exist_ok=True)\r\n",
    "    for key in processed_entire_dict_df:\r\n",
    "\r\n",
    "        profile = ProfileReport(\r\n",
    "            processed_entire_dict_df[key], title=\"Pandas Profiling Report for \"+key)\r\n",
    "        completeName = os.path.join(\"reports/\", key+\".html\")\r\n",
    "\r\n",
    "        profile.to_file(completeName)\r\n"
   ],
   "outputs": [],
   "metadata": {}
  }
 ],
 "metadata": {
  "orig_nbformat": 4,
  "language_info": {
   "name": "python"
  }
 },
 "nbformat": 4,
 "nbformat_minor": 2
}