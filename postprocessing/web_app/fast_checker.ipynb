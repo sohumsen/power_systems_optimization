{
 "cells": [
  {
   "cell_type": "code",
   "execution_count": 1,
   "source": [
    "\r\n",
    "\r\n",
    "%load_ext autoreload\r\n",
    "%autoreload 2\r\n",
    "\r\n",
    "from pyomo.environ import *\r\n",
    "from optimization import TransitionModel\r\n",
    "import pandas as pd\r\n",
    "\r\n",
    "import matplotlib.pyplot as plt\r\n"
   ],
   "outputs": [],
   "metadata": {}
  },
  {
   "cell_type": "code",
   "execution_count": 2,
   "source": [
    "file_path=\"../../processing/input/new_format/new_format-2020.xlsx\"\r\n",
    "\r\n",
    "\r\n",
    "df=pd.read_excel(file_path,sheet_name=None)\r\n",
    "\r\n",
    "df[\"Demand\"].columns=df[\"Demand\"].columns.map(lambda x: x.replace(\" (MWh)\",\"\"))\r\n",
    "df[\"SupIm\"].columns=df[\"SupIm\"].columns.map(lambda x: x.replace(\" (m/s)\",\"\").replace(\" (kJ/m2)\",\"\"))"
   ],
   "outputs": [],
   "metadata": {}
  },
  {
   "cell_type": "code",
   "execution_count": 3,
   "source": [
    "\r\n",
    "\r\n",
    "\r\n",
    "\r\n",
    "\r\n",
    "model = TransitionModel(df)\r\n",
    "model1, results = model.optimize()\r\n"
   ],
   "outputs": [
    {
     "output_type": "stream",
     "name": "stdout",
     "text": [
      "WARNING: Loading a SolverResults object with a warning status into\n",
      "    model.name=\"unknown\";\n",
      "      - termination condition: infeasible\n",
      "      - message from solver: Ipopt 3.11.1\\x3a Converged to a locally\n",
      "        infeasible point. Problem may be infeasible.\n"
     ]
    }
   ],
   "metadata": {}
  },
  {
   "cell_type": "code",
   "execution_count": 4,
   "source": [
    "model1.deficit_sum.display()"
   ],
   "outputs": [
    {
     "output_type": "stream",
     "name": "stdout",
     "text": [
      "deficit_sum : Size=3\n",
      "    Key           : Lower : Body                : Upper\n",
      "    GreaterLondon :  None : 0.17253873831352706 :   0.0\n",
      "        SouthEast :  None : 0.37839565080321336 :   0.0\n",
      "        SouthWest :  None : 0.23672677464455916 :   0.0\n"
     ]
    }
   ],
   "metadata": {}
  },
  {
   "cell_type": "code",
   "execution_count": null,
   "source": [],
   "outputs": [],
   "metadata": {}
  }
 ],
 "metadata": {
  "orig_nbformat": 4,
  "language_info": {
   "name": "python",
   "version": "3.8.5",
   "mimetype": "text/x-python",
   "codemirror_mode": {
    "name": "ipython",
    "version": 3
   },
   "pygments_lexer": "ipython3",
   "nbconvert_exporter": "python",
   "file_extension": ".py"
  },
  "kernelspec": {
   "name": "python3",
   "display_name": "Python 3.8.5 64-bit ('base': conda)"
  },
  "interpreter": {
   "hash": "2e27e705f449ea5cee5b9311a4a0857134fd0773b7ea6b2f7b6819a54abc9e48"
  }
 },
 "nbformat": 4,
 "nbformat_minor": 2
}